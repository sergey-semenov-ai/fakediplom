{
 "cells": [
  {
   "cell_type": "code",
   "execution_count": 2,
   "id": "e0061676",
   "metadata": {},
   "outputs": [],
   "source": [
    "import pandas as pd\n",
    "import numpy as np\n",
    "import pipes2 as pp\n",
    "\n",
    "df = pd.read_csv('air_train.csv')\n",
    "df = df.drop(['Unnamed: 0','id'], axis = 1)\n",
    "\n",
    "df = pp.myPipe.transform(df)\n",
    "\n",
    "X = df.drop(['satisfaction'], axis = 1)\n",
    "y = df.satisfaction\n",
    "\n",
    "X = X - X.mean()\n",
    "X = X/X.std()\n"
   ]
  },
  {
   "cell_type": "code",
   "execution_count": 3,
   "id": "44983778",
   "metadata": {},
   "outputs": [],
   "source": [
    "df = pd.read_csv('air_test.csv')\n",
    "df = df.drop(['Unnamed: 0','id'], axis = 1)\n",
    "\n",
    "df = pp.myPipe.transform(df)\n",
    "\n",
    "X_t = df.drop(['satisfaction'], axis = 1)\n",
    "y_t = df.satisfaction\n",
    "\n",
    "X_t = X_t - X_t.mean()\n",
    "X_t = X_t/X_t.std()\n"
   ]
  },
  {
   "cell_type": "code",
   "execution_count": 4,
   "id": "480ce6a7",
   "metadata": {},
   "outputs": [
    {
     "data": {
      "text/plain": [
       "22"
      ]
     },
     "execution_count": 4,
     "metadata": {},
     "output_type": "execute_result"
    }
   ],
   "source": [
    "X.shape[1]"
   ]
  },
  {
   "cell_type": "code",
   "execution_count": 6,
   "id": "95aec428",
   "metadata": {},
   "outputs": [],
   "source": [
    "import tensorflow as tf\n",
    "from tensorflow.keras import models\n",
    "from tensorflow.keras import layers\n",
    "\n",
    "model = models.Sequential()\n",
    "\n",
    "model.add(layers.Dense(256, activation=\"relu\", input_shape = (X.shape[1],),)) \n",
    "#model.add(layers.Dropout(0.4))\n",
    "\n",
    "model.add(layers.Dense(256, activation=\"relu\"))\n",
    "model.add(layers.Dense(256, activation=\"relu\"))\n",
    "\n",
    "model.add(layers.Dense(1, activation=\"sigmoid\"))\n",
    "\n",
    "# Компиляция модели\n",
    "model.compile(optimizer=tf.keras.optimizers.Adam(1e-3),\n",
    "              loss=\"binary_crossentropy\",\n",
    "              metrics=[\"accuracy\"])"
   ]
  },
  {
   "cell_type": "code",
   "execution_count": 11,
   "id": "31047652",
   "metadata": {},
   "outputs": [],
   "source": [
    "model = create_model()"
   ]
  },
  {
   "cell_type": "code",
   "execution_count": null,
   "id": "1ea8cf17",
   "metadata": {},
   "outputs": [],
   "source": []
  },
  {
   "cell_type": "code",
   "execution_count": 12,
   "id": "27b95c7f",
   "metadata": {},
   "outputs": [
    {
     "name": "stdout",
     "output_type": "stream",
     "text": [
      "Epoch 1/100\n",
      "203/203 [==============================] - 2s 7ms/step - loss: 0.4319 - accuracy: 0.9205 - val_loss: 0.2362 - val_accuracy: 0.9439\n",
      "Epoch 2/100\n",
      "203/203 [==============================] - 1s 6ms/step - loss: 0.1957 - accuracy: 0.9471 - val_loss: 0.1796 - val_accuracy: 0.9491\n",
      "Epoch 3/100\n",
      "203/203 [==============================] - 1s 6ms/step - loss: 0.1550 - accuracy: 0.9539 - val_loss: 0.1445 - val_accuracy: 0.9557\n",
      "Epoch 4/100\n",
      "203/203 [==============================] - 1s 6ms/step - loss: 0.1376 - accuracy: 0.9565 - val_loss: 0.1451 - val_accuracy: 0.9500\n",
      "Epoch 5/100\n",
      "203/203 [==============================] - 1s 6ms/step - loss: 0.1289 - accuracy: 0.9577 - val_loss: 0.1293 - val_accuracy: 0.9567\n",
      "Epoch 6/100\n",
      "203/203 [==============================] - 1s 6ms/step - loss: 0.1223 - accuracy: 0.9586 - val_loss: 0.1237 - val_accuracy: 0.9597\n",
      "Epoch 7/100\n",
      "203/203 [==============================] - 1s 6ms/step - loss: 0.1171 - accuracy: 0.9598 - val_loss: 0.1234 - val_accuracy: 0.9582\n",
      "Epoch 8/100\n",
      "203/203 [==============================] - 1s 6ms/step - loss: 0.1143 - accuracy: 0.9599 - val_loss: 0.1142 - val_accuracy: 0.9592\n",
      "Epoch 9/100\n",
      "203/203 [==============================] - 1s 7ms/step - loss: 0.1106 - accuracy: 0.9608 - val_loss: 0.1122 - val_accuracy: 0.9598\n",
      "Epoch 10/100\n",
      "203/203 [==============================] - 1s 6ms/step - loss: 0.1090 - accuracy: 0.9607 - val_loss: 0.1108 - val_accuracy: 0.9615\n",
      "Epoch 11/100\n",
      "203/203 [==============================] - 1s 7ms/step - loss: 0.1070 - accuracy: 0.9611 - val_loss: 0.1201 - val_accuracy: 0.9583\n",
      "Epoch 12/100\n",
      "203/203 [==============================] - 1s 7ms/step - loss: 0.1077 - accuracy: 0.9617 - val_loss: 0.1061 - val_accuracy: 0.9621\n",
      "Epoch 13/100\n",
      "203/203 [==============================] - 1s 6ms/step - loss: 0.1048 - accuracy: 0.9623 - val_loss: 0.1154 - val_accuracy: 0.9579\n",
      "Epoch 14/100\n",
      "203/203 [==============================] - 1s 6ms/step - loss: 0.1032 - accuracy: 0.9630 - val_loss: 0.1095 - val_accuracy: 0.9608\n",
      "Epoch 15/100\n",
      "203/203 [==============================] - 1s 7ms/step - loss: 0.1019 - accuracy: 0.9632 - val_loss: 0.1056 - val_accuracy: 0.9622\n",
      "Epoch 16/100\n",
      "203/203 [==============================] - 1s 6ms/step - loss: 0.1014 - accuracy: 0.9632 - val_loss: 0.1056 - val_accuracy: 0.9623\n",
      "Epoch 17/100\n",
      "203/203 [==============================] - 1s 7ms/step - loss: 0.1000 - accuracy: 0.9631 - val_loss: 0.1048 - val_accuracy: 0.9617\n",
      "Epoch 18/100\n",
      "203/203 [==============================] - 1s 6ms/step - loss: 0.0996 - accuracy: 0.9638 - val_loss: 0.1075 - val_accuracy: 0.9595\n",
      "Epoch 19/100\n",
      "203/203 [==============================] - 1s 7ms/step - loss: 0.0983 - accuracy: 0.9634 - val_loss: 0.1046 - val_accuracy: 0.9603\n",
      "Epoch 20/100\n",
      "203/203 [==============================] - 1s 7ms/step - loss: 0.0980 - accuracy: 0.9636 - val_loss: 0.1008 - val_accuracy: 0.9634\n",
      "Epoch 21/100\n",
      "203/203 [==============================] - 1s 7ms/step - loss: 0.0963 - accuracy: 0.9642 - val_loss: 0.1047 - val_accuracy: 0.9634\n",
      "Epoch 22/100\n",
      "203/203 [==============================] - 1s 6ms/step - loss: 0.0979 - accuracy: 0.9639 - val_loss: 0.1012 - val_accuracy: 0.9633\n",
      "Epoch 23/100\n",
      "203/203 [==============================] - 1s 6ms/step - loss: 0.0960 - accuracy: 0.9642 - val_loss: 0.1018 - val_accuracy: 0.9626\n",
      "Epoch 24/100\n",
      "203/203 [==============================] - 1s 6ms/step - loss: 0.0962 - accuracy: 0.9642 - val_loss: 0.1003 - val_accuracy: 0.9633\n",
      "Epoch 25/100\n",
      "203/203 [==============================] - 1s 6ms/step - loss: 0.0947 - accuracy: 0.9644 - val_loss: 0.1030 - val_accuracy: 0.9619\n",
      "Epoch 26/100\n",
      "203/203 [==============================] - 1s 7ms/step - loss: 0.0936 - accuracy: 0.9654 - val_loss: 0.1004 - val_accuracy: 0.9629\n",
      "Epoch 27/100\n",
      "203/203 [==============================] - 1s 6ms/step - loss: 0.0938 - accuracy: 0.9650 - val_loss: 0.0981 - val_accuracy: 0.9648\n",
      "Epoch 28/100\n",
      "203/203 [==============================] - 1s 6ms/step - loss: 0.0938 - accuracy: 0.9650 - val_loss: 0.1015 - val_accuracy: 0.9623\n",
      "Epoch 29/100\n",
      "203/203 [==============================] - 1s 6ms/step - loss: 0.0941 - accuracy: 0.9646 - val_loss: 0.0995 - val_accuracy: 0.9639\n",
      "Epoch 30/100\n",
      "203/203 [==============================] - 1s 6ms/step - loss: 0.0924 - accuracy: 0.9650 - val_loss: 0.0983 - val_accuracy: 0.9639\n",
      "Epoch 31/100\n",
      "203/203 [==============================] - 1s 7ms/step - loss: 0.0931 - accuracy: 0.9652 - val_loss: 0.1002 - val_accuracy: 0.9630\n",
      "Epoch 32/100\n",
      "203/203 [==============================] - 1s 6ms/step - loss: 0.0923 - accuracy: 0.9653 - val_loss: 0.0978 - val_accuracy: 0.9640\n",
      "Epoch 33/100\n",
      "203/203 [==============================] - 1s 7ms/step - loss: 0.0923 - accuracy: 0.9648 - val_loss: 0.1002 - val_accuracy: 0.9622\n",
      "Epoch 34/100\n",
      "203/203 [==============================] - 1s 7ms/step - loss: 0.0924 - accuracy: 0.9654 - val_loss: 0.0977 - val_accuracy: 0.9645\n",
      "Epoch 35/100\n",
      "203/203 [==============================] - 1s 7ms/step - loss: 0.0924 - accuracy: 0.9651 - val_loss: 0.0983 - val_accuracy: 0.9638\n",
      "Epoch 36/100\n",
      "203/203 [==============================] - 1s 6ms/step - loss: 0.0910 - accuracy: 0.9662 - val_loss: 0.1011 - val_accuracy: 0.9620\n",
      "Epoch 37/100\n",
      "203/203 [==============================] - 1s 6ms/step - loss: 0.0911 - accuracy: 0.9659 - val_loss: 0.1012 - val_accuracy: 0.9622\n",
      "Epoch 38/100\n",
      "203/203 [==============================] - 1s 7ms/step - loss: 0.0913 - accuracy: 0.9653 - val_loss: 0.0990 - val_accuracy: 0.9626\n",
      "Epoch 39/100\n",
      "203/203 [==============================] - 1s 7ms/step - loss: 0.0906 - accuracy: 0.9655 - val_loss: 0.0964 - val_accuracy: 0.9642\n",
      "Epoch 40/100\n",
      "203/203 [==============================] - 2s 8ms/step - loss: 0.0900 - accuracy: 0.9660 - val_loss: 0.0972 - val_accuracy: 0.9636\n",
      "Epoch 41/100\n",
      "203/203 [==============================] - 1s 6ms/step - loss: 0.0900 - accuracy: 0.9663 - val_loss: 0.0962 - val_accuracy: 0.9639\n",
      "Epoch 42/100\n",
      "203/203 [==============================] - 1s 6ms/step - loss: 0.0899 - accuracy: 0.9658 - val_loss: 0.0977 - val_accuracy: 0.9638\n",
      "Epoch 43/100\n",
      "203/203 [==============================] - 1s 5ms/step - loss: 0.0904 - accuracy: 0.9660 - val_loss: 0.0994 - val_accuracy: 0.9634\n",
      "Epoch 44/100\n",
      "203/203 [==============================] - 1s 6ms/step - loss: 0.0911 - accuracy: 0.9656 - val_loss: 0.0972 - val_accuracy: 0.9647\n",
      "Epoch 45/100\n",
      "203/203 [==============================] - 1s 7ms/step - loss: 0.0897 - accuracy: 0.9663 - val_loss: 0.0974 - val_accuracy: 0.9640\n",
      "Epoch 46/100\n",
      "203/203 [==============================] - 1s 6ms/step - loss: 0.0888 - accuracy: 0.9663 - val_loss: 0.0956 - val_accuracy: 0.9647\n",
      "Epoch 47/100\n",
      "203/203 [==============================] - 1s 7ms/step - loss: 0.0884 - accuracy: 0.9662 - val_loss: 0.0969 - val_accuracy: 0.9641\n",
      "Epoch 48/100\n",
      "203/203 [==============================] - 1s 6ms/step - loss: 0.0890 - accuracy: 0.9662 - val_loss: 0.0978 - val_accuracy: 0.9634\n",
      "Epoch 49/100\n",
      "203/203 [==============================] - 1s 6ms/step - loss: 0.0895 - accuracy: 0.9659 - val_loss: 0.0968 - val_accuracy: 0.9640\n",
      "Epoch 50/100\n",
      "203/203 [==============================] - 1s 6ms/step - loss: 0.0881 - accuracy: 0.9666 - val_loss: 0.0959 - val_accuracy: 0.9640\n",
      "Epoch 51/100\n",
      "203/203 [==============================] - 1s 7ms/step - loss: 0.0885 - accuracy: 0.9659 - val_loss: 0.0974 - val_accuracy: 0.9631\n",
      "Epoch 52/100\n",
      "203/203 [==============================] - 1s 6ms/step - loss: 0.0897 - accuracy: 0.9662 - val_loss: 0.0961 - val_accuracy: 0.9649\n",
      "Epoch 53/100\n",
      "203/203 [==============================] - 1s 7ms/step - loss: 0.0890 - accuracy: 0.9657 - val_loss: 0.0974 - val_accuracy: 0.9633\n",
      "Epoch 54/100\n",
      "203/203 [==============================] - 1s 6ms/step - loss: 0.0880 - accuracy: 0.9661 - val_loss: 0.0988 - val_accuracy: 0.9630\n",
      "Epoch 55/100\n",
      "203/203 [==============================] - 1s 6ms/step - loss: 0.0889 - accuracy: 0.9661 - val_loss: 0.0974 - val_accuracy: 0.9640\n",
      "Epoch 56/100\n",
      "203/203 [==============================] - 1s 6ms/step - loss: 0.0892 - accuracy: 0.9659 - val_loss: 0.0988 - val_accuracy: 0.9633\n",
      "Epoch 57/100\n",
      "203/203 [==============================] - 1s 6ms/step - loss: 0.0892 - accuracy: 0.9661 - val_loss: 0.0996 - val_accuracy: 0.9631\n"
     ]
    },
    {
     "name": "stdout",
     "output_type": "stream",
     "text": [
      "Epoch 58/100\n",
      "203/203 [==============================] - 1s 6ms/step - loss: 0.0898 - accuracy: 0.9662 - val_loss: 0.0969 - val_accuracy: 0.9634\n",
      "Epoch 59/100\n",
      "203/203 [==============================] - 1s 6ms/step - loss: 0.0870 - accuracy: 0.9670 - val_loss: 0.0957 - val_accuracy: 0.9643\n",
      "Epoch 60/100\n",
      "203/203 [==============================] - 1s 6ms/step - loss: 0.0877 - accuracy: 0.9664 - val_loss: 0.0977 - val_accuracy: 0.9638\n",
      "Epoch 61/100\n",
      "203/203 [==============================] - 1s 6ms/step - loss: 0.0874 - accuracy: 0.9664 - val_loss: 0.0954 - val_accuracy: 0.9647\n",
      "Epoch 62/100\n",
      "203/203 [==============================] - 1s 6ms/step - loss: 0.0875 - accuracy: 0.9663 - val_loss: 0.0971 - val_accuracy: 0.9624\n",
      "Epoch 63/100\n",
      "203/203 [==============================] - 1s 6ms/step - loss: 0.0886 - accuracy: 0.9660 - val_loss: 0.0962 - val_accuracy: 0.9638\n",
      "Epoch 64/100\n",
      "203/203 [==============================] - 1s 6ms/step - loss: 0.0882 - accuracy: 0.9664 - val_loss: 0.1027 - val_accuracy: 0.9612\n",
      "Epoch 65/100\n",
      "203/203 [==============================] - 1s 6ms/step - loss: 0.0873 - accuracy: 0.9662 - val_loss: 0.0984 - val_accuracy: 0.9621\n",
      "Epoch 66/100\n",
      "203/203 [==============================] - 1s 6ms/step - loss: 0.0867 - accuracy: 0.9668 - val_loss: 0.0985 - val_accuracy: 0.9632\n",
      "Epoch 67/100\n",
      "203/203 [==============================] - 1s 6ms/step - loss: 0.0877 - accuracy: 0.9661 - val_loss: 0.0995 - val_accuracy: 0.9639\n",
      "Epoch 68/100\n",
      "203/203 [==============================] - 1s 6ms/step - loss: 0.0873 - accuracy: 0.9667 - val_loss: 0.0943 - val_accuracy: 0.9644\n",
      "Epoch 69/100\n",
      "203/203 [==============================] - 1s 6ms/step - loss: 0.0872 - accuracy: 0.9664 - val_loss: 0.0948 - val_accuracy: 0.9649\n",
      "Epoch 70/100\n",
      "203/203 [==============================] - 1s 6ms/step - loss: 0.0866 - accuracy: 0.9671 - val_loss: 0.0964 - val_accuracy: 0.9634\n",
      "Epoch 71/100\n",
      "203/203 [==============================] - 1s 6ms/step - loss: 0.0867 - accuracy: 0.9670 - val_loss: 0.0954 - val_accuracy: 0.9638\n",
      "Epoch 72/100\n",
      "203/203 [==============================] - 1s 6ms/step - loss: 0.0880 - accuracy: 0.9665 - val_loss: 0.0970 - val_accuracy: 0.9639\n",
      "Epoch 73/100\n",
      "203/203 [==============================] - 1s 6ms/step - loss: 0.0864 - accuracy: 0.9673 - val_loss: 0.0949 - val_accuracy: 0.9633\n",
      "Epoch 74/100\n",
      "203/203 [==============================] - 1s 6ms/step - loss: 0.0865 - accuracy: 0.9668 - val_loss: 0.0983 - val_accuracy: 0.9629\n",
      "Epoch 75/100\n",
      "203/203 [==============================] - 1s 6ms/step - loss: 0.0864 - accuracy: 0.9670 - val_loss: 0.0979 - val_accuracy: 0.9636\n",
      "Epoch 76/100\n",
      "203/203 [==============================] - 1s 6ms/step - loss: 0.0870 - accuracy: 0.9668 - val_loss: 0.0973 - val_accuracy: 0.9639\n",
      "Epoch 77/100\n",
      "203/203 [==============================] - 1s 6ms/step - loss: 0.0875 - accuracy: 0.9667 - val_loss: 0.0964 - val_accuracy: 0.9636\n",
      "Epoch 78/100\n",
      "203/203 [==============================] - 1s 6ms/step - loss: 0.0857 - accuracy: 0.9670 - val_loss: 0.0999 - val_accuracy: 0.9634\n",
      "Epoch 79/100\n",
      "203/203 [==============================] - 1s 6ms/step - loss: 0.0873 - accuracy: 0.9670 - val_loss: 0.0977 - val_accuracy: 0.9634\n",
      "Epoch 80/100\n",
      "203/203 [==============================] - 1s 6ms/step - loss: 0.0858 - accuracy: 0.9672 - val_loss: 0.0981 - val_accuracy: 0.9637\n",
      "Epoch 81/100\n",
      "203/203 [==============================] - 1s 6ms/step - loss: 0.0865 - accuracy: 0.9666 - val_loss: 0.0972 - val_accuracy: 0.9644\n",
      "Epoch 82/100\n",
      "203/203 [==============================] - 1s 6ms/step - loss: 0.0859 - accuracy: 0.9670 - val_loss: 0.0976 - val_accuracy: 0.9630\n",
      "Epoch 83/100\n",
      "203/203 [==============================] - 1s 6ms/step - loss: 0.0864 - accuracy: 0.9667 - val_loss: 0.0985 - val_accuracy: 0.9634\n",
      "Epoch 84/100\n",
      "203/203 [==============================] - 1s 6ms/step - loss: 0.0886 - accuracy: 0.9661 - val_loss: 0.0967 - val_accuracy: 0.9643\n",
      "Epoch 85/100\n",
      "203/203 [==============================] - 1s 6ms/step - loss: 0.0868 - accuracy: 0.9667 - val_loss: 0.0974 - val_accuracy: 0.9641\n",
      "Epoch 86/100\n",
      "203/203 [==============================] - 1s 6ms/step - loss: 0.0868 - accuracy: 0.9665 - val_loss: 0.0949 - val_accuracy: 0.9644\n",
      "Epoch 87/100\n",
      "203/203 [==============================] - 1s 6ms/step - loss: 0.0861 - accuracy: 0.9668 - val_loss: 0.0950 - val_accuracy: 0.9657\n",
      "Epoch 88/100\n",
      "203/203 [==============================] - 1s 6ms/step - loss: 0.0851 - accuracy: 0.9674 - val_loss: 0.0965 - val_accuracy: 0.9634\n",
      "Epoch 89/100\n",
      "203/203 [==============================] - 1s 6ms/step - loss: 0.0861 - accuracy: 0.9669 - val_loss: 0.0971 - val_accuracy: 0.9641\n",
      "Epoch 90/100\n",
      "203/203 [==============================] - 1s 6ms/step - loss: 0.0858 - accuracy: 0.9670 - val_loss: 0.1007 - val_accuracy: 0.9627\n",
      "Epoch 91/100\n",
      "203/203 [==============================] - 1s 6ms/step - loss: 0.0864 - accuracy: 0.9667 - val_loss: 0.0956 - val_accuracy: 0.9650\n",
      "Epoch 92/100\n",
      "203/203 [==============================] - 1s 6ms/step - loss: 0.0864 - accuracy: 0.9668 - val_loss: 0.0966 - val_accuracy: 0.9638\n",
      "Epoch 93/100\n",
      "203/203 [==============================] - 1s 6ms/step - loss: 0.0860 - accuracy: 0.9668 - val_loss: 0.0976 - val_accuracy: 0.9639\n",
      "Epoch 94/100\n",
      "203/203 [==============================] - 1s 6ms/step - loss: 0.0852 - accuracy: 0.9672 - val_loss: 0.0977 - val_accuracy: 0.9639\n",
      "Epoch 95/100\n",
      "203/203 [==============================] - 1s 6ms/step - loss: 0.0859 - accuracy: 0.9669 - val_loss: 0.0966 - val_accuracy: 0.9620\n",
      "Epoch 96/100\n",
      "203/203 [==============================] - 1s 6ms/step - loss: 0.0873 - accuracy: 0.9670 - val_loss: 0.0964 - val_accuracy: 0.9636\n",
      "Epoch 97/100\n",
      "203/203 [==============================] - 1s 6ms/step - loss: 0.0864 - accuracy: 0.9669 - val_loss: 0.0972 - val_accuracy: 0.9629\n",
      "Epoch 98/100\n",
      "203/203 [==============================] - 1s 6ms/step - loss: 0.0860 - accuracy: 0.9668 - val_loss: 0.0970 - val_accuracy: 0.9634\n",
      "Epoch 99/100\n",
      "203/203 [==============================] - 1s 6ms/step - loss: 0.0854 - accuracy: 0.9673 - val_loss: 0.0981 - val_accuracy: 0.9629\n",
      "Epoch 100/100\n",
      "203/203 [==============================] - 1s 6ms/step - loss: 0.0856 - accuracy: 0.9668 - val_loss: 0.0971 - val_accuracy: 0.9626\n"
     ]
    }
   ],
   "source": [
    "history = model.fit(X, y, validation_data = (X_t, y_t), \n",
    "                    epochs=100, batch_size=512)"
   ]
  },
  {
   "cell_type": "code",
   "execution_count": 13,
   "id": "64ef489c",
   "metadata": {},
   "outputs": [],
   "source": [
    "from sklearn.metrics import confusion_matrix, f1_score"
   ]
  },
  {
   "cell_type": "code",
   "execution_count": 22,
   "id": "caa8466b",
   "metadata": {},
   "outputs": [
    {
     "name": "stdout",
     "output_type": "stream",
     "text": [
      "812/812 [==============================] - 1s 1ms/step\n"
     ]
    }
   ],
   "source": [
    "pr = model.predict(X_t)>0.5"
   ]
  },
  {
   "cell_type": "code",
   "execution_count": 23,
   "id": "a33f427f",
   "metadata": {},
   "outputs": [
    {
     "data": {
      "text/plain": [
       "array([[ True],\n",
       "       [ True],\n",
       "       [False],\n",
       "       ...,\n",
       "       [False],\n",
       "       [ True],\n",
       "       [False]])"
      ]
     },
     "execution_count": 23,
     "metadata": {},
     "output_type": "execute_result"
    }
   ],
   "source": [
    "pr"
   ]
  },
  {
   "cell_type": "code",
   "execution_count": null,
   "id": "7fbb76a1",
   "metadata": {},
   "outputs": [],
   "source": []
  },
  {
   "cell_type": "code",
   "execution_count": 24,
   "id": "7adc2678",
   "metadata": {},
   "outputs": [
    {
     "data": {
      "text/plain": [
       "0.9564866681604303"
      ]
     },
     "execution_count": 24,
     "metadata": {},
     "output_type": "execute_result"
    }
   ],
   "source": [
    "f1_score (y_t, pr)"
   ]
  },
  {
   "cell_type": "code",
   "execution_count": 25,
   "id": "17c07d5f",
   "metadata": {},
   "outputs": [
    {
     "data": {
      "text/plain": [
       "array([[14333,   240],\n",
       "       [  731, 10672]])"
      ]
     },
     "execution_count": 25,
     "metadata": {},
     "output_type": "execute_result"
    }
   ],
   "source": [
    "confusion_matrix(y_t, pr)"
   ]
  },
  {
   "cell_type": "code",
   "execution_count": null,
   "id": "7c047e9e",
   "metadata": {},
   "outputs": [],
   "source": [
    "# кросс-валидация"
   ]
  },
  {
   "cell_type": "code",
   "execution_count": 26,
   "id": "5096a5f8",
   "metadata": {},
   "outputs": [],
   "source": [
    "from sklearn.model_selection import StratifiedKFold"
   ]
  },
  {
   "cell_type": "code",
   "execution_count": 27,
   "id": "2a133269",
   "metadata": {},
   "outputs": [],
   "source": [
    "def create_model():\n",
    "    model = models.Sequential()\n",
    "\n",
    "    model.add(layers.Dense(256, activation=\"relu\", input_shape = (X.shape[1],), \n",
    "                       kernel_regularizer=tf.keras.regularizers.l2(0.002),)) \n",
    "                       #kernel_regularizer=tf.keras.regularizers.l2(0.002)))\n",
    "        #model.add(layers.Dropout(0.4))\n",
    "\n",
    "    model.add(layers.Dense(256, activation=\"relu\", kernel_regularizer=tf.keras.regularizers.l2(0.002)))\n",
    "    model.add(layers.Dense(256, activation=\"relu\"))\n",
    "\n",
    "    model.add(layers.Dense(1, activation=\"sigmoid\"))\n",
    "\n",
    "    # Компиляция модели\n",
    "    model.compile(optimizer=tf.keras.optimizers.Adam(1e-3),\n",
    "              loss=\"binary_crossentropy\",\n",
    "              metrics=[\"accuracy\"])\n",
    "    \n",
    "    return model"
   ]
  },
  {
   "cell_type": "code",
   "execution_count": 35,
   "id": "5e57590e",
   "metadata": {},
   "outputs": [],
   "source": [
    "def train_and_evaluate__model(model, data_train, labels_train, data_test, labels_test):\n",
    "    \n",
    "    history = model.fit(data_train, labels_train, validation_data = (data_test, labels_test), \n",
    "                        epochs=50, batch_size=512, verbose = 0)\n",
    "    \n",
    "    return history.history['accuracy'][-1], history.history['val_accuracy'][-1]\n"
   ]
  },
  {
   "cell_type": "code",
   "execution_count": 37,
   "id": "8ae8d50d",
   "metadata": {},
   "outputs": [
    {
     "name": "stdout",
     "output_type": "stream",
     "text": [
      "split  1 acc : 0.9672413468360901 val_acc : 0.9624176025390625\n",
      "split  2 acc : 0.9670608639717102 val_acc : 0.9627063274383545\n",
      "split  3 acc : 0.9669165015220642 val_acc : 0.9610220789909363\n",
      "split  4 acc : 0.9671571254730225 val_acc : 0.9645830392837524\n",
      "split  5 acc : 0.9662191271781921 val_acc : 0.9635707139968872\n"
     ]
    }
   ],
   "source": [
    "kFold = StratifiedKFold(n_splits=5)\n",
    "i = 0\n",
    "for train, test in kFold.split(X, y):\n",
    "    model = None\n",
    "    model = create_model()\n",
    "    i += 1\n",
    "    acc, v_a = train_and_evaluate__model(model, X[train], y[train], X[test], y[test])\n",
    "    print ('split ',i, 'acc :', acc, 'val_acc :', v_a)"
   ]
  },
  {
   "cell_type": "code",
   "execution_count": 29,
   "id": "15200ee9",
   "metadata": {},
   "outputs": [],
   "source": [
    "X = np.asarray(X)"
   ]
  },
  {
   "cell_type": "code",
   "execution_count": 30,
   "id": "e95d70da",
   "metadata": {},
   "outputs": [],
   "source": [
    "kFold = StratifiedKFold(n_splits=5)"
   ]
  },
  {
   "cell_type": "code",
   "execution_count": 31,
   "id": "c58ec23b",
   "metadata": {},
   "outputs": [
    {
     "data": {
      "text/plain": [
       "StratifiedKFold(n_splits=5, random_state=None, shuffle=False)"
      ]
     },
     "execution_count": 31,
     "metadata": {},
     "output_type": "execute_result"
    }
   ],
   "source": [
    "kFold"
   ]
  },
  {
   "cell_type": "code",
   "execution_count": null,
   "id": "ace2d07b",
   "metadata": {},
   "outputs": [],
   "source": []
  }
 ],
 "metadata": {
  "kernelspec": {
   "display_name": "Python 3 (ipykernel)",
   "language": "python",
   "name": "python3"
  },
  "language_info": {
   "codemirror_mode": {
    "name": "ipython",
    "version": 3
   },
   "file_extension": ".py",
   "mimetype": "text/x-python",
   "name": "python",
   "nbconvert_exporter": "python",
   "pygments_lexer": "ipython3",
   "version": "3.9.12"
  }
 },
 "nbformat": 4,
 "nbformat_minor": 5
}
