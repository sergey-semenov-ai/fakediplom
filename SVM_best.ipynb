{
 "cells": [
  {
   "cell_type": "code",
   "execution_count": 41,
   "id": "3c53ebe3",
   "metadata": {},
   "outputs": [],
   "source": [
    "from sklearn.model_selection import GridSearchCV\n",
    "import pandas as pd\n",
    "import numpy as np\n",
    "import pipes2 as pp\n",
    "from sklearn.svm import SVC  ### Замена класса"
   ]
  },
  {
   "cell_type": "code",
   "execution_count": 42,
   "id": "eb562f28",
   "metadata": {},
   "outputs": [],
   "source": [
    "df = pd.read_csv('air_train.csv')\n",
    "df = df.drop(['Unnamed: 0','id'], axis = 1)\n",
    "df = pp.myPipe.transform(df)\n",
    "X = df.drop(['satisfaction'], axis = 1)\n",
    "y = df.satisfaction\n",
    "\n",
    "t = pd.read_csv('air_test.csv')\n",
    "t = t.drop(['Unnamed: 0','id'], axis = 1)\n",
    "t = pp.myPipe.transform(t)\n",
    "X_t = t.drop(['satisfaction'], axis = 1)\n",
    "y_t = t.satisfaction"
   ]
  },
  {
   "cell_type": "code",
   "execution_count": 43,
   "id": "da80d4c5",
   "metadata": {},
   "outputs": [],
   "source": [
    "svc = SVC()  ### Замена класса"
   ]
  },
  {
   "cell_type": "code",
   "execution_count": 44,
   "id": "936f4749",
   "metadata": {},
   "outputs": [],
   "source": [
    "from sklearn.preprocessing import StandardScaler"
   ]
  },
  {
   "cell_type": "code",
   "execution_count": 45,
   "id": "305137ae",
   "metadata": {},
   "outputs": [],
   "source": [
    "sc = StandardScaler()"
   ]
  },
  {
   "cell_type": "code",
   "execution_count": 46,
   "id": "f6953971",
   "metadata": {},
   "outputs": [],
   "source": [
    "X = sc.fit_transform(X)\n",
    "X_t = sc.transform(X_t)"
   ]
  },
  {
   "cell_type": "code",
   "execution_count": 7,
   "id": "6ccc056f",
   "metadata": {},
   "outputs": [],
   "source": [
    "### Замена параметров\n",
    "paramgrid = {'kernel': ['rbf'], 'C': [1, 0.5]}"
   ]
  },
  {
   "cell_type": "code",
   "execution_count": 8,
   "id": "18fca92d",
   "metadata": {},
   "outputs": [],
   "source": [
    "GS_cv = GridSearchCV(svc, param_grid = paramgrid, cv = 3, scoring = 'f1')"
   ]
  },
  {
   "cell_type": "code",
   "execution_count": 9,
   "id": "b79f564a",
   "metadata": {},
   "outputs": [
    {
     "data": {
      "text/plain": [
       "GridSearchCV(cv=3, estimator=SVC(),\n",
       "             param_grid={'C': [1, 0.5], 'kernel': ['rbf']}, scoring='f1')"
      ]
     },
     "execution_count": 9,
     "metadata": {},
     "output_type": "execute_result"
    }
   ],
   "source": [
    "GS_cv.fit(X,y)"
   ]
  },
  {
   "cell_type": "code",
   "execution_count": 10,
   "id": "88b0c6ee",
   "metadata": {},
   "outputs": [
    {
     "data": {
      "text/plain": [
       "{'C': 1, 'kernel': 'rbf'}"
      ]
     },
     "execution_count": 10,
     "metadata": {},
     "output_type": "execute_result"
    }
   ],
   "source": [
    "GS_cv.best_params_"
   ]
  },
  {
   "cell_type": "code",
   "execution_count": 11,
   "id": "f63be04a",
   "metadata": {},
   "outputs": [],
   "source": [
    "best_gs_tree = GS_cv.best_estimator_"
   ]
  },
  {
   "cell_type": "code",
   "execution_count": 12,
   "id": "d05ded97",
   "metadata": {},
   "outputs": [
    {
     "data": {
      "text/plain": [
       "0.9585001539882969"
      ]
     },
     "execution_count": 12,
     "metadata": {},
     "output_type": "execute_result"
    }
   ],
   "source": [
    "best_gs_tree.score(X,y)"
   ]
  },
  {
   "cell_type": "code",
   "execution_count": 13,
   "id": "b1ab7917",
   "metadata": {},
   "outputs": [
    {
     "data": {
      "text/plain": [
       "0.954650446566061"
      ]
     },
     "execution_count": 13,
     "metadata": {},
     "output_type": "execute_result"
    }
   ],
   "source": [
    "best_gs_tree.score(X_t,y_t)"
   ]
  },
  {
   "cell_type": "code",
   "execution_count": 14,
   "id": "3838a060",
   "metadata": {},
   "outputs": [
    {
     "data": {
      "text/plain": [
       "0.9477558985275856"
      ]
     },
     "execution_count": 14,
     "metadata": {},
     "output_type": "execute_result"
    }
   ],
   "source": [
    "from sklearn.metrics import f1_score\n",
    "pred = best_gs_tree.predict(X_t)\n",
    "f1_score(y_t, pred)"
   ]
  },
  {
   "cell_type": "code",
   "execution_count": 16,
   "id": "e6734dfa",
   "metadata": {},
   "outputs": [
    {
     "data": {
      "text/plain": [
       "0.9514895148951489"
      ]
     },
     "execution_count": 16,
     "metadata": {},
     "output_type": "execute_result"
    }
   ],
   "source": [
    "pred = best_gs_tree.predict(X)\n",
    "f1_score(y, pred)"
   ]
  },
  {
   "cell_type": "code",
   "execution_count": null,
   "id": "0b4623b3",
   "metadata": {},
   "outputs": [],
   "source": [
    "# Как ускорить эксперименты с SVM? \n",
    "# Что бы не уснуть на кросс-валидации и подборе параметров\n",
    "# "
   ]
  },
  {
   "cell_type": "code",
   "execution_count": null,
   "id": "14641d34",
   "metadata": {},
   "outputs": [],
   "source": []
  },
  {
   "cell_type": "code",
   "execution_count": 65,
   "id": "07a73293",
   "metadata": {},
   "outputs": [],
   "source": [
    "from sklearn.model_selection import StratifiedKFold\n",
    "kFold = StratifiedKFold(n_splits=5)"
   ]
  },
  {
   "cell_type": "code",
   "execution_count": 48,
   "id": "fac2ca74",
   "metadata": {},
   "outputs": [],
   "source": [
    "iter_ = kFold.split(X, y)"
   ]
  },
  {
   "cell_type": "code",
   "execution_count": 49,
   "id": "d0de294c",
   "metadata": {},
   "outputs": [
    {
     "data": {
      "text/plain": [
       "generator"
      ]
     },
     "execution_count": 49,
     "metadata": {},
     "output_type": "execute_result"
    }
   ],
   "source": [
    "type(iter_)"
   ]
  },
  {
   "cell_type": "code",
   "execution_count": 50,
   "id": "581cf196",
   "metadata": {},
   "outputs": [],
   "source": [
    "_, subset = next (iter_)"
   ]
  },
  {
   "cell_type": "code",
   "execution_count": 51,
   "id": "e8f4533c",
   "metadata": {},
   "outputs": [
    {
     "data": {
      "text/plain": [
       "(10391,)"
      ]
     },
     "execution_count": 51,
     "metadata": {},
     "output_type": "execute_result"
    }
   ],
   "source": [
    "subset.shape"
   ]
  },
  {
   "cell_type": "code",
   "execution_count": 52,
   "id": "d09fc613",
   "metadata": {},
   "outputs": [
    {
     "data": {
      "text/plain": [
       "(103904, 22)"
      ]
     },
     "execution_count": 52,
     "metadata": {},
     "output_type": "execute_result"
    }
   ],
   "source": [
    "X.shape"
   ]
  },
  {
   "cell_type": "code",
   "execution_count": 53,
   "id": "c5833223",
   "metadata": {},
   "outputs": [],
   "source": [
    "X = X[subset]\n",
    "y = y[subset]"
   ]
  },
  {
   "cell_type": "code",
   "execution_count": 54,
   "id": "fca2d507",
   "metadata": {},
   "outputs": [
    {
     "data": {
      "text/plain": [
       "(10391,)"
      ]
     },
     "execution_count": 54,
     "metadata": {},
     "output_type": "execute_result"
    }
   ],
   "source": [
    "y.shape"
   ]
  },
  {
   "cell_type": "code",
   "execution_count": 59,
   "id": "d4de7301",
   "metadata": {},
   "outputs": [],
   "source": [
    "paramgrid = [{'kernel': ['rbf'], 'C': [1, 0.5]},\n",
    "             {'kernel': ['poly'], 'degree': [3,4,5,10]}]"
   ]
  },
  {
   "cell_type": "code",
   "execution_count": 60,
   "id": "13c72d3a",
   "metadata": {},
   "outputs": [
    {
     "data": {
      "text/plain": [
       "GridSearchCV(cv=3, estimator=SVC(),\n",
       "             param_grid={'C': [1, 0.5], 'kernel': ['rbf']}, scoring='f1')"
      ]
     },
     "execution_count": 60,
     "metadata": {},
     "output_type": "execute_result"
    }
   ],
   "source": [
    "GS_cv.fit(X,y)"
   ]
  },
  {
   "cell_type": "code",
   "execution_count": 61,
   "id": "4d91770b",
   "metadata": {},
   "outputs": [
    {
     "data": {
      "text/plain": [
       "{'C': 1, 'kernel': 'rbf'}"
      ]
     },
     "execution_count": 61,
     "metadata": {},
     "output_type": "execute_result"
    }
   ],
   "source": [
    "GS_cv.best_params_"
   ]
  },
  {
   "cell_type": "code",
   "execution_count": 62,
   "id": "b30da02d",
   "metadata": {},
   "outputs": [],
   "source": [
    "from sklearn.model_selection import cross_val_score\n"
   ]
  },
  {
   "cell_type": "code",
   "execution_count": 63,
   "id": "81ff26e1",
   "metadata": {},
   "outputs": [],
   "source": [
    "cv = cross_val_score(best_gs_tree, X,y, cv = 5, scoring = 'f1')"
   ]
  },
  {
   "cell_type": "code",
   "execution_count": 64,
   "id": "441e297b",
   "metadata": {},
   "outputs": [
    {
     "data": {
      "text/plain": [
       "0.9232235583109741"
      ]
     },
     "execution_count": 64,
     "metadata": {},
     "output_type": "execute_result"
    }
   ],
   "source": [
    "cv.mean()"
   ]
  }
 ],
 "metadata": {
  "kernelspec": {
   "display_name": "Python 3 (ipykernel)",
   "language": "python",
   "name": "python3"
  },
  "language_info": {
   "codemirror_mode": {
    "name": "ipython",
    "version": 3
   },
   "file_extension": ".py",
   "mimetype": "text/x-python",
   "name": "python",
   "nbconvert_exporter": "python",
   "pygments_lexer": "ipython3",
   "version": "3.9.12"
  }
 },
 "nbformat": 4,
 "nbformat_minor": 5
}
