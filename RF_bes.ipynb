{
 "cells": [
  {
   "cell_type": "code",
   "execution_count": 1,
   "id": "3c53ebe3",
   "metadata": {},
   "outputs": [],
   "source": [
    "from sklearn.model_selection import GridSearchCV\n",
    "import pandas as pd\n",
    "import numpy as np\n",
    "import pipes2 as pp\n",
    "from sklearn.ensemble import RandomForestClassifier  ### Замена класса"
   ]
  },
  {
   "cell_type": "code",
   "execution_count": 2,
   "id": "eb562f28",
   "metadata": {},
   "outputs": [],
   "source": [
    "df = pd.read_csv('air_train.csv')\n",
    "df = df.drop(['Unnamed: 0','id'], axis = 1)\n",
    "df = pp.myPipe.transform(df)\n",
    "X = df.drop(['satisfaction'], axis = 1)\n",
    "y = df.satisfaction\n",
    "\n",
    "t = pd.read_csv('air_test.csv')\n",
    "t = t.drop(['Unnamed: 0','id'], axis = 1)\n",
    "t = pp.myPipe.transform(t)\n",
    "X_t = t.drop(['satisfaction'], axis = 1)\n",
    "y_t = t.satisfaction"
   ]
  },
  {
   "cell_type": "code",
   "execution_count": 14,
   "id": "da80d4c5",
   "metadata": {},
   "outputs": [],
   "source": [
    "RF_clf = RandomForestClassifier()  ### Замена класса"
   ]
  },
  {
   "cell_type": "code",
   "execution_count": 25,
   "id": "6ccc056f",
   "metadata": {},
   "outputs": [],
   "source": [
    "### Замена параметров\n",
    "paramgrid = {'n_estimators': [300, 350, 400], 'max_depth': [37,39, 42], 'criterion': ['entropy']}"
   ]
  },
  {
   "cell_type": "code",
   "execution_count": 26,
   "id": "18fca92d",
   "metadata": {},
   "outputs": [],
   "source": [
    "GS_cv = GridSearchCV(RF_clf, param_grid = paramgrid, cv = 3, scoring = 'f1')"
   ]
  },
  {
   "cell_type": "code",
   "execution_count": 28,
   "id": "b79f564a",
   "metadata": {},
   "outputs": [
    {
     "data": {
      "text/plain": [
       "GridSearchCV(cv=3, estimator=RandomForestClassifier(),\n",
       "             param_grid={'criterion': ['entropy'], 'max_depth': [37, 39, 42],\n",
       "                         'n_estimators': [300, 350, 400]},\n",
       "             scoring='f1')"
      ]
     },
     "execution_count": 28,
     "metadata": {},
     "output_type": "execute_result"
    }
   ],
   "source": [
    "GS_cv.fit(X,y)"
   ]
  },
  {
   "cell_type": "code",
   "execution_count": 29,
   "id": "88b0c6ee",
   "metadata": {},
   "outputs": [
    {
     "data": {
      "text/plain": [
       "{'criterion': 'entropy', 'max_depth': 42, 'n_estimators': 350}"
      ]
     },
     "execution_count": 29,
     "metadata": {},
     "output_type": "execute_result"
    }
   ],
   "source": [
    "GS_cv.best_params_"
   ]
  },
  {
   "cell_type": "code",
   "execution_count": 30,
   "id": "f63be04a",
   "metadata": {},
   "outputs": [],
   "source": [
    "best_gs_tree = GS_cv.best_estimator_"
   ]
  },
  {
   "cell_type": "code",
   "execution_count": 31,
   "id": "d05ded97",
   "metadata": {},
   "outputs": [
    {
     "data": {
      "text/plain": [
       "1.0"
      ]
     },
     "execution_count": 31,
     "metadata": {},
     "output_type": "execute_result"
    }
   ],
   "source": [
    "best_gs_tree.score(X,y)"
   ]
  },
  {
   "cell_type": "code",
   "execution_count": 32,
   "id": "b1ab7917",
   "metadata": {},
   "outputs": [
    {
     "data": {
      "text/plain": [
       "0.963543270711426"
      ]
     },
     "execution_count": 32,
     "metadata": {},
     "output_type": "execute_result"
    }
   ],
   "source": [
    "best_gs_tree.score(X_t,y_t)"
   ]
  },
  {
   "cell_type": "code",
   "execution_count": 33,
   "id": "3838a060",
   "metadata": {},
   "outputs": [
    {
     "data": {
      "text/plain": [
       "0.9577590436683171"
      ]
     },
     "execution_count": 33,
     "metadata": {},
     "output_type": "execute_result"
    }
   ],
   "source": [
    "from sklearn.metrics import f1_score\n",
    "pred = best_gs_tree.predict(X_t)\n",
    "f1_score(y_t, pred)"
   ]
  },
  {
   "cell_type": "code",
   "execution_count": 34,
   "id": "e6734dfa",
   "metadata": {},
   "outputs": [
    {
     "data": {
      "text/plain": [
       "1.0"
      ]
     },
     "execution_count": 34,
     "metadata": {},
     "output_type": "execute_result"
    }
   ],
   "source": [
    "pred = best_gs_tree.predict(X)\n",
    "f1_score(y, pred)"
   ]
  },
  {
   "cell_type": "code",
   "execution_count": 35,
   "id": "0b4623b3",
   "metadata": {},
   "outputs": [],
   "source": [
    "from sklearn.model_selection import cross_val_score"
   ]
  },
  {
   "cell_type": "code",
   "execution_count": 36,
   "id": "9568a9cc",
   "metadata": {},
   "outputs": [],
   "source": [
    "cv = cross_val_score(best_gs_tree, X,y, cv = 5, scoring = 'f1')"
   ]
  },
  {
   "cell_type": "code",
   "execution_count": 37,
   "id": "9752b938",
   "metadata": {},
   "outputs": [
    {
     "data": {
      "text/plain": [
       "array([0.95456087, 0.95581015, 0.95404765, 0.957138  , 0.95841338])"
      ]
     },
     "execution_count": 37,
     "metadata": {},
     "output_type": "execute_result"
    }
   ],
   "source": [
    "cv"
   ]
  },
  {
   "cell_type": "code",
   "execution_count": 4,
   "id": "3251b350",
   "metadata": {},
   "outputs": [],
   "source": [
    "ccc = np.array([0.95456087, 0.95581015, 0.95404765, 0.957138  , 0.95841338])"
   ]
  },
  {
   "cell_type": "code",
   "execution_count": 6,
   "id": "f0b9c2b1",
   "metadata": {},
   "outputs": [
    {
     "data": {
      "text/plain": [
       "0.9559940100000001"
      ]
     },
     "execution_count": 6,
     "metadata": {},
     "output_type": "execute_result"
    }
   ],
   "source": [
    "ccc.mean()"
   ]
  }
 ],
 "metadata": {
  "kernelspec": {
   "display_name": "Python 3 (ipykernel)",
   "language": "python",
   "name": "python3"
  },
  "language_info": {
   "codemirror_mode": {
    "name": "ipython",
    "version": 3
   },
   "file_extension": ".py",
   "mimetype": "text/x-python",
   "name": "python",
   "nbconvert_exporter": "python",
   "pygments_lexer": "ipython3",
   "version": "3.9.12"
  }
 },
 "nbformat": 4,
 "nbformat_minor": 5
}
